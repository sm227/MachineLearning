{
  "nbformat": 4,
  "nbformat_minor": 0,
  "metadata": {
    "colab": {
      "private_outputs": true,
      "provenance": [],
      "include_colab_link": true
    },
    "kernelspec": {
      "name": "python3",
      "display_name": "Python 3"
    },
    "language_info": {
      "name": "python"
    }
  },
  "cells": [
    {
      "cell_type": "markdown",
      "metadata": {
        "id": "view-in-github",
        "colab_type": "text"
      },
      "source": [
        "<a href=\"https://colab.research.google.com/github/sm227/MachineLearning/blob/main/%ED%81%B4%EB%9F%AC%EC%8A%A4%ED%84%B0%EB%A7%812.ipynb\" target=\"_parent\"><img src=\"https://colab.research.google.com/assets/colab-badge.svg\" alt=\"Open In Colab\"/></a>"
      ]
    },
    {
      "cell_type": "code",
      "execution_count": null,
      "metadata": {
        "id": "meuDJg9BEhbt"
      },
      "outputs": [],
      "source": [
        "from sklearn.datasets import make_blobs\n",
        "from sklearn.cluster import KMeans\n",
        "import pandas as pd\n",
        "import numpy as np\n",
        "import scipy as sp\n",
        "import seaborn as sns\n",
        "import matplotlib.pyplot as plt"
      ]
    },
    {
      "cell_type": "code",
      "source": [
        "x, y= make_blobs(n_samples=200, centers=4 , random_state=42)"
      ],
      "metadata": {
        "id": "6L8Ve3PMFYCw"
      },
      "execution_count": null,
      "outputs": []
    },
    {
      "cell_type": "code",
      "source": [
        "points = pd.DataFrame(x,y).reset_index(drop =True)\n",
        "points.columns=[\"x\",\"y\"]\n",
        "points[\"cluster\"]=y\n",
        "points"
      ],
      "metadata": {
        "id": "bCBA6KjNGKAP"
      },
      "execution_count": null,
      "outputs": []
    },
    {
      "cell_type": "code",
      "source": [
        "sns.scatterplot(x=\"x\", y=\"y\", hue=\"cluster\", data=points, palette=\"Set2\")"
      ],
      "metadata": {
        "id": "BtyRPLoCG0JP"
      },
      "execution_count": null,
      "outputs": []
    },
    {
      "cell_type": "code",
      "source": [
        "centrpoints =points.sample(4, random_state=1)\n",
        "centrpoints"
      ],
      "metadata": {
        "id": "NYlIjzhm0Qfz"
      },
      "execution_count": null,
      "outputs": []
    },
    {
      "cell_type": "code",
      "source": [
        "sns.scatterplot(x=\"x\", y=\"y\", hue=\"cluster\", data=centrpoints, palette=\"Set2\")"
      ],
      "metadata": {
        "id": "ljjPV4D70pCZ"
      },
      "execution_count": null,
      "outputs": []
    },
    {
      "cell_type": "code",
      "source": [
        "distance = sp.spatial.distance.cdist(points, centrpoints, \"euclidean\")"
      ],
      "metadata": {
        "id": "iZmciMxU1DkD"
      },
      "execution_count": null,
      "outputs": []
    },
    {
      "cell_type": "code",
      "source": [
        "cluster_num = np.argmin(distance, axis=1)\n",
        "result= points.copy()\n",
        "result[\"cluster\"]= np. array(cluster_num)\n",
        "result.head()"
      ],
      "metadata": {
        "id": "xDSu4rDQ1q9S"
      },
      "execution_count": null,
      "outputs": []
    },
    {
      "cell_type": "code",
      "source": [
        "sns.scatterplot(x=\"x\", y=\"y\", hue=\"cluster\", data=result, palette=\"Set2\")"
      ],
      "metadata": {
        "id": "rkcmaT-G29Hb"
      },
      "execution_count": null,
      "outputs": []
    },
    {
      "cell_type": "code",
      "source": [
        "centrpoint_2 = result.groupby(\"cluster\").mean()\n",
        "centrpoint_2"
      ],
      "metadata": {
        "id": "dTHrg1BI3VcK"
      },
      "execution_count": null,
      "outputs": []
    },
    {
      "cell_type": "code",
      "source": [
        "sns.scatterplot(x=\"x\", y=\"y\", hue=\"cluster\", data=centrpoint_2, palette=\"Set2\")"
      ],
      "metadata": {
        "id": "_GDDNOOU5NWi"
      },
      "execution_count": null,
      "outputs": []
    },
    {
      "cell_type": "code",
      "source": [
        "kemans = KMeans(n_clusters=4, n_init=10)\n",
        "kemans.fit(points)"
      ],
      "metadata": {
        "id": "6slBVKD_35Ri"
      },
      "execution_count": null,
      "outputs": []
    },
    {
      "cell_type": "code",
      "source": [
        "result_by_sklearn = points.copy()\n",
        "result_by_sklearn[\"cluster\"] = kemans.labels_\n",
        "result_by_sklearn.head()"
      ],
      "metadata": {
        "id": "S-vK8RID4Str"
      },
      "execution_count": null,
      "outputs": []
    },
    {
      "cell_type": "code",
      "source": [
        "sns.scatterplot(x=\"x\", y=\"y\", hue=\"cluster\", data=result_by_sklearn, palette=\"Set2\")"
      ],
      "metadata": {
        "id": "4bfvuUel5B9T"
      },
      "execution_count": null,
      "outputs": []
    }
  ]
}