{
  "nbformat": 4,
  "nbformat_minor": 0,
  "metadata": {
    "colab": {
      "private_outputs": true,
      "provenance": [],
      "include_colab_link": true
    },
    "kernelspec": {
      "name": "python3",
      "display_name": "Python 3"
    },
    "language_info": {
      "name": "python"
    }
  },
  "cells": [
    {
      "cell_type": "markdown",
      "metadata": {
        "id": "view-in-github",
        "colab_type": "text"
      },
      "source": [
        "<a href=\"https://colab.research.google.com/github/sm227/MachineLearning/blob/main/%EC%84%A0%ED%98%95%EC%8B%A4%EC%8A%B5.ipynb\" target=\"_parent\"><img src=\"https://colab.research.google.com/assets/colab-badge.svg\" alt=\"Open In Colab\"/></a>"
      ]
    },
    {
      "cell_type": "code",
      "execution_count": null,
      "metadata": {
        "id": "_sJk2yoz-LN3"
      },
      "outputs": [],
      "source": [
        "import sklearn\n",
        "import numpy as np\n",
        "import pandas as pd\n",
        "import matplotlib.pyplot as plt\n",
        "import seaborn as sns\n",
        "from sklearn.datasets import load_diabetes\n",
        "from sklearn.model_selection import train_test_split\n",
        "from sklearn.linear_model import LinearRegression\n",
        "from sklearn.metrics import mean_squared_error"
      ]
    },
    {
      "cell_type": "code",
      "source": [
        "diabetes = load_diabetes()\n",
        "print(diabetes.DESCR)"
      ],
      "metadata": {
        "id": "3iw71evo_2R5"
      },
      "execution_count": null,
      "outputs": []
    },
    {
      "cell_type": "code",
      "source": [
        "print(diabetes.feature_names)"
      ],
      "metadata": {
        "id": "bWPg32AqAbdx"
      },
      "execution_count": null,
      "outputs": []
    },
    {
      "cell_type": "code",
      "source": [
        "print(diabetes.target)"
      ],
      "metadata": {
        "id": "H2nuLjSCAlip"
      },
      "execution_count": null,
      "outputs": []
    },
    {
      "cell_type": "code",
      "source": [
        "diabetes_df = pd.DataFrame(data=diabetes.data, columns= diabetes.feature_names)\n",
        "diabetes_df['target'] = diabetes.target\n",
        "diabetes_df.head() #tail\n",
        "diabetes_df.tail() #tail"
      ],
      "metadata": {
        "id": "pzCVEVBwA-yI"
      },
      "execution_count": null,
      "outputs": []
    },
    {
      "cell_type": "code",
      "source": [
        "diabetes_df.info"
      ],
      "metadata": {
        "id": "VvyFm7chBzzJ"
      },
      "execution_count": null,
      "outputs": []
    },
    {
      "cell_type": "code",
      "source": [
        "diabetes_corr = diabetes_df.corr()\n",
        "cor_order = diabetes_df.loc[:, 'age':'s6'].corrwith(diabetes_df['target']).abs().sort_values(ascending=False)\n",
        "print(cor_order)"
      ],
      "metadata": {
        "id": "hOD8ruV1CZeZ"
      },
      "execution_count": null,
      "outputs": []
    },
    {
      "cell_type": "code",
      "source": [
        "names = ['target', 'bmi','s5']\n",
        "diabetes_df_l = diabetes_df.loc[: , names]\n",
        "plt.figure(figsize=(16,6))\n",
        "for i, name in enumerate(names[1:]):\n",
        "    ax=plt.subplot(1,2,i+1)\n",
        "    sns.regplot(x=name, y=names[0], data=diabetes_df_l, ax=ax)\n",
        "plt.show"
      ],
      "metadata": {
        "id": "SHxi0d1vED6h"
      },
      "execution_count": null,
      "outputs": []
    },
    {
      "cell_type": "code",
      "source": [
        "from sklearn.model_selection import train_test_split\n",
        "x_data = diabetes_df.loc[:, ['bmi','s5']]\n",
        "y_data = diabetes_df.loc[:, 'target']\n",
        "X_train, X_test, y_train, y_test = train_test_split(x_data, y_data, test_size=0.2, random_state=1)\n",
        "print(X_train.shape, y_train.shape)\n",
        "print(X_test.shape, y_test.shape)"
      ],
      "metadata": {
        "id": "YGVXP0O_t2NG"
      },
      "execution_count": null,
      "outputs": []
    },
    {
      "cell_type": "code",
      "source": [
        "lr= LinearRegression()\n",
        "lr.fit(X_train, y_train) #훈련데이터 학습\n",
        "print(np.round(lr.coef_, 2))\n",
        "print(np.round(lr.intercept_, 2))"
      ],
      "metadata": {
        "id": "8uMz7bGSwq0u"
      },
      "execution_count": null,
      "outputs": []
    },
    {
      "cell_type": "code",
      "source": [
        "pred = lr.predict(X_test)\n",
        "plt.figure(figsize=(10,6))\n",
        "plt.scatter(X_test['bmi'], y_test, label='test')\n",
        "plt.scatter(X_test['bmi'], pred, c='r', label='predict')\n",
        "plt.legend() #범례 표시\n",
        "plt.show() #산점도 그리기"
      ],
      "metadata": {
        "id": "wxlx_3ndyxH-"
      },
      "execution_count": null,
      "outputs": []
    },
    {
      "cell_type": "code",
      "source": [
        "plt.figure(figsize=(10,6))\n",
        "plt.scatter(X_test['s5'], y_test, label='test')\n",
        "plt.scatter(X_test['s5'], pred, c='r', label='predict')\n",
        "plt.legend() #범례 표시\n",
        "plt.show() #산점도 그리기"
      ],
      "metadata": {
        "id": "mLg2upvl03NX"
      },
      "execution_count": null,
      "outputs": []
    },
    {
      "cell_type": "code",
      "source": [
        "test_pred = lr.predict(X_test)\n",
        "train_pred = lr.predict(X_train)\n",
        "train_mse = mean_squared_error(y_train, train_pred)\n",
        "test_mse = mean_squared_error(y_test, test_pred)\n",
        "print(\" train data set RMSE : \",round(train_mse**0.5, 3))\n",
        "print(\" test data set RMSE : \",round(test_mse**0.5, 3))"
      ],
      "metadata": {
        "id": "r2gUuN9H1Zdv"
      },
      "execution_count": null,
      "outputs": []
    }
  ]
}