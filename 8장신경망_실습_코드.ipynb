{
  "nbformat": 4,
  "nbformat_minor": 0,
  "metadata": {
    "colab": {
      "private_outputs": true,
      "provenance": [],
      "include_colab_link": true
    },
    "kernelspec": {
      "name": "python3",
      "display_name": "Python 3"
    },
    "language_info": {
      "name": "python"
    }
  },
  "cells": [
    {
      "cell_type": "markdown",
      "metadata": {
        "id": "view-in-github",
        "colab_type": "text"
      },
      "source": [
        "<a href=\"https://colab.research.google.com/github/sm227/MachineLearning/blob/main/8%EC%9E%A5%EC%8B%A0%EA%B2%BD%EB%A7%9D_%EC%8B%A4%EC%8A%B5_%EC%BD%94%EB%93%9C.ipynb\" target=\"_parent\"><img src=\"https://colab.research.google.com/assets/colab-badge.svg\" alt=\"Open In Colab\"/></a>"
      ]
    },
    {
      "cell_type": "code",
      "execution_count": null,
      "metadata": {
        "id": "WFpl6b6384n8"
      },
      "outputs": [],
      "source": [
        "#셸 1\n",
        "import tensorflow as tf #tensoflow 라이브러리를 tf로 가져오기\n",
        "import matplotlib.pyplot as plt # matplotlib.pyplot 서브 패키지를 plt로 가져오기\n",
        "import numpy as np #numpy 라이브러리 np로 가져오기\n",
        "from tensorflow import keras #tensoflow 라이브러리 중 keras 신경망 라이브러리를 가져오기"
      ]
    },
    {
      "cell_type": "code",
      "source": [
        "#셸 2\n",
        "mnist = keras.datasets.mnist #keras 라이브러리 중 mnist 데이터 세트 준비하기\n",
        "(x_train, y_train), (x_test, y_test) = mnist.load_data() #MNIST 데이터 세트 학습용(x,y), 테스트용(x,y) 데이터로 나누기"
      ],
      "metadata": {
        "id": "bTBSihdf-K5_"
      },
      "execution_count": null,
      "outputs": []
    },
    {
      "cell_type": "code",
      "source": [
        "#셸 3\n",
        "print(x_train.shape) #결과(60000, 28, 28) 출력\n",
        "print(x_train[0]) # 첫 번째 학습용 데이터 인 '5' 출력\n",
        "print(y_train[0]) # 첫 번째 학습용 레이블 '5' 출력"
      ],
      "metadata": {
        "id": "wQks3obj-qwG"
      },
      "execution_count": null,
      "outputs": []
    },
    {
      "cell_type": "code",
      "source": [
        "#셸 4\n",
        "x_train = x_train / 255 #학습용 데이터를 0~1 사이 숫자로 변형\n",
        "x_test = x_test / 255 # 테스트용 데이터를 0~1 사이 숫자로 변형\n",
        "x_train[0] # 데이터 전처리 결과 출력"
      ],
      "metadata": {
        "id": "Y7zMJcguD5lA"
      },
      "execution_count": null,
      "outputs": []
    },
    {
      "cell_type": "code",
      "source": [
        "#셸 5\n",
        "#모델 만들기 : 입력층(784) - 은닉층1(16) - 은닉층2(16) - 출력층(10)\n",
        "model = keras.models.Sequential([\n",
        "keras.layers.Flatten(input_shape = (28, 28)), #입력층 784개\n",
        "keras.layers.Dense(16, activation = 'relu'),\n",
        "keras.layers.Dense(16, activation = 'relu'),\n",
        "keras.layers.Dense(10, activation = 'softmax') #확률 출력\n",
        "])"
      ],
      "metadata": {
        "id": "riQC64NEFhzg"
      },
      "execution_count": null,
      "outputs": []
    },
    {
      "cell_type": "code",
      "source": [
        "#셸 6\n",
        "model.compile(optimizer = 'adam', loss = 'sparse_categorical_crossentropy', metrics = ['accuracy'])"
      ],
      "metadata": {
        "id": "Z09arfrjHY91"
      },
      "execution_count": null,
      "outputs": []
    },
    {
      "cell_type": "code",
      "source": [
        "#셸 7\n",
        "model.summary() # 모델 결과 확인"
      ],
      "metadata": {
        "id": "Beh2fGrfHnqF"
      },
      "execution_count": null,
      "outputs": []
    },
    {
      "cell_type": "code",
      "source": [
        "#셸 8\n",
        "model.fit(x_train, y_train, epochs = 5)"
      ],
      "metadata": {
        "id": "ihtG7hRoH4M8"
      },
      "execution_count": null,
      "outputs": []
    },
    {
      "cell_type": "code",
      "source": [
        "#셸 9\n",
        "model.evaluate(x_test, y_test)"
      ],
      "metadata": {
        "id": "ImIqjkPNIW_S"
      },
      "execution_count": null,
      "outputs": []
    },
    {
      "cell_type": "code",
      "source": [
        "#셸 10\n",
        "print(model.predict(x_train[0].reshape(1, 28, 28)))"
      ],
      "metadata": {
        "id": "uVMkRYMIJl5l"
      },
      "execution_count": null,
      "outputs": []
    }
  ]
}