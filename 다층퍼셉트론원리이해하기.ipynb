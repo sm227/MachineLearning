{
  "nbformat": 4,
  "nbformat_minor": 0,
  "metadata": {
    "colab": {
      "private_outputs": true,
      "provenance": []
    },
    "kernelspec": {
      "name": "python3",
      "display_name": "Python 3"
    },
    "language_info": {
      "name": "python"
    }
  },
  "cells": [
    {
      "cell_type": "code",
      "execution_count": null,
      "metadata": {
        "id": "vSJ90psAlsar"
      },
      "outputs": [],
      "source": [
        "import numpy as np"
      ]
    },
    {
      "cell_type": "code",
      "source": [
        "#and 함수 정의\n",
        "def and_p(x1,x2):\n",
        "    x=np.array([x1,x2]) #입력값\n",
        "    w=np.array([0.5,0.5]) #가중치\n",
        "    b=-0.8 #바이어스(편향)\n",
        "    result=np.sum(w*x)+b\n",
        "    if result >=0:\n",
        "        return 1\n",
        "    else:\n",
        "        return 0\n",
        "input = [(0,0),(1,0),(0,1),(1,1)]\n",
        "print(\"===AND===\")\n",
        "for a,b in input:\n",
        "    y=and_p(a,b)\n",
        "    print(f'입력값:{a},{b}-> 출력값:{y}')\n",
        "    print()\n"
      ],
      "metadata": {
        "id": "-v0TY7vomgeF"
      },
      "execution_count": null,
      "outputs": []
    },
    {
      "cell_type": "code",
      "source": [
        "def or_p(x1,x2):\n",
        "    x=np.array([x1,x2]) #입력값\n",
        "    w=np.array([0.5,0.5]) #가중치\n",
        "    b=-0.3 #바이어스(편향)\n",
        "    result=np.sum(w*x)+b\n",
        "    if result >=0:\n",
        "        return 1\n",
        "    else:\n",
        "        return 0\n",
        "input = [(0,0),(1,0),(0,1),(1,1)]\n",
        "print(\"===OR===\")\n",
        "for a,b in input:\n",
        "    y=or_p(a,b)\n",
        "    print(f'입력값:{a},{b}-> 출력값:{y}')\n",
        "    print()"
      ],
      "metadata": {
        "id": "p_G4ciiQpnbe"
      },
      "execution_count": null,
      "outputs": []
    },
    {
      "cell_type": "code",
      "source": [
        "def NAND_p(x1,x2):\n",
        "    x=np.array([x1,x2]) #입력값\n",
        "    w=np.array([-0.5,-0.5]) #가중치\n",
        "    b=0.8 #바이어스(편향)\n",
        "    result=np.sum(w*x)+b\n",
        "    if result >=0:\n",
        "        return 1\n",
        "    else:\n",
        "        return 0\n",
        "input = [(0,0),(1,0),(0,1),(1,1)]\n",
        "print(\"===NAND===\")\n",
        "for a,b in input:\n",
        "    y=NAND_p(a,b)\n",
        "    print(f'입력값:{a},{b}-> 출력값:{y}')\n",
        "    print()"
      ],
      "metadata": {
        "id": "v3CRp_BSrGtI"
      },
      "execution_count": null,
      "outputs": []
    },
    {
      "cell_type": "code",
      "source": [
        "def xor_p(x1,x2):\n",
        "    s1=NAND_p(x1,x2)\n",
        "    s2= or_p(x1,x2)\n",
        "    y=and_p(s1,s2)\n",
        "    return y\n",
        "print(\"===XOR===\")\n",
        "for a,b in input:\n",
        "    y=xor_p(a,b)\n",
        "    print(f'입력값:{a},{b}-> 출력값:{y}')\n",
        "    print()\n"
      ],
      "metadata": {
        "id": "eLIKVy35rb6F"
      },
      "execution_count": null,
      "outputs": []
    }
  ]
}